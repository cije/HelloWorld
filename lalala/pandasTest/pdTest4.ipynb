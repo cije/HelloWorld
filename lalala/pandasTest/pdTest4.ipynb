{
 "nbformat": 4,
 "nbformat_minor": 2,
 "metadata": {
  "language_info": {
   "name": "python",
   "codemirror_mode": {
    "name": "ipython",
    "version": 3
   },
   "version": "3.7.7-final"
  },
  "orig_nbformat": 2,
  "file_extension": ".py",
  "mimetype": "text/x-python",
  "name": "python",
  "npconvert_exporter": "python",
  "pygments_lexer": "ipython3",
  "version": 3,
  "kernelspec": {
   "name": "python3",
   "display_name": "Python 3"
  }
 },
 "cells": [
  {
   "cell_type": "code",
   "execution_count": 1,
   "metadata": {},
   "outputs": [],
   "source": [
    "import pandas as pd"
   ]
  },
  {
   "cell_type": "code",
   "execution_count": 2,
   "metadata": {},
   "outputs": [],
   "source": [
    "data=pd.read_csv('F:\\\\onedrive\\\\HelloWorld\\\\lalala\\\\pandasTest\\\\meal_order_info.csv',encoding=\"GB18030\")"
   ]
  },
  {
   "cell_type": "code",
   "execution_count": 3,
   "metadata": {},
   "outputs": [
    {
     "output_type": "execute_result",
     "data": {
      "text/plain": "     info_id  emp_id  number_consumers  mode  dining_table_id  \\\n0        417    1442                 4   NaN             1501   \n1        301    1095                 3   NaN             1430   \n2        413    1147                 6   NaN             1488   \n3        415    1166                 4   NaN             1502   \n4        392    1094                10   NaN             1499   \n..       ...     ...               ...   ...              ...   \n940      641    1095                 8   NaN             1492   \n941      672    1089                 6   NaN             1489   \n942      692    1155                 8   NaN             1492   \n943      647    1094                 4   NaN             1485   \n944      570    1113                 8   NaN             1517   \n\n     dining_table_name  expenditure  dishes_count  accounts_payable  \\\n0                 1022          165             5               165   \n1                 1031          321             6               321   \n2                 1009          854            15               854   \n3                 1023          466            10               466   \n4                 1020          704            24               704   \n..                 ...          ...           ...               ...   \n940               1013          679            12               679   \n941               1010          800            24               800   \n942               1013          735            10               735   \n943               1006          262             9               262   \n944               1038          589            13               589   \n\n         use_start_time  ...           lock_time cashier_id  pc_id  \\\n0     2016/8/1 11:05:36  ...   2016/8/1 11:11:46        NaN    NaN   \n1     2016/8/1 11:15:57  ...   2016/8/1 11:31:55        NaN    NaN   \n2     2016/8/1 12:42:52  ...   2016/8/1 12:54:37        NaN    NaN   \n3     2016/8/1 12:51:38  ...   2016/8/1 13:08:20        NaN    NaN   \n4     2016/8/1 12:58:44  ...   2016/8/1 13:07:16        NaN    NaN   \n..                  ...  ...                 ...        ...    ...   \n940  2016/8/31 21:23:48  ...  2016/8/31 21:31:48        NaN    NaN   \n941  2016/8/31 21:24:12  ...  2016/8/31 21:56:12        NaN    NaN   \n942  2016/8/31 21:25:18  ...  2016/8/31 21:33:34        NaN    NaN   \n943  2016/8/31 21:37:39  ...  2016/8/31 21:55:39        NaN    NaN   \n944  2016/8/31 21:41:56  ...  2016/8/31 21:32:56        NaN    NaN   \n\n     order_number  org_id  print_doc_bill_num  lock_table_info  order_status  \\\n0             NaN     330                 NaN              NaN             1   \n1             NaN     328                 NaN              NaN             1   \n2             NaN     330                 NaN              NaN             1   \n3             NaN     330                 NaN              NaN             1   \n4             NaN     330                 NaN              NaN             1   \n..            ...     ...                 ...              ...           ...   \n940           NaN     330                 NaN              NaN             1   \n941           NaN     330                 NaN              NaN             1   \n942           NaN     330                 NaN              NaN             1   \n943           NaN     330                 NaN              NaN             1   \n944           NaN     330                 NaN              NaN             1   \n\n           phone  name  \n0    18688880641   苗宇怡  \n1    18688880174    赵颖  \n2    18688880276   徐毅凡  \n3    18688880231   张大鹏  \n4    18688880173   孙熙凯  \n..           ...   ...  \n940  18688880307    李靖  \n941  18688880305    莫言  \n942  18688880327   习一冰  \n943  18688880207   章春华  \n944  18688880313   唐雅嘉  \n\n[945 rows x 21 columns]",
      "text/html": "<div>\n<style scoped>\n    .dataframe tbody tr th:only-of-type {\n        vertical-align: middle;\n    }\n\n    .dataframe tbody tr th {\n        vertical-align: top;\n    }\n\n    .dataframe thead th {\n        text-align: right;\n    }\n</style>\n<table border=\"1\" class=\"dataframe\">\n  <thead>\n    <tr style=\"text-align: right;\">\n      <th></th>\n      <th>info_id</th>\n      <th>emp_id</th>\n      <th>number_consumers</th>\n      <th>mode</th>\n      <th>dining_table_id</th>\n      <th>dining_table_name</th>\n      <th>expenditure</th>\n      <th>dishes_count</th>\n      <th>accounts_payable</th>\n      <th>use_start_time</th>\n      <th>...</th>\n      <th>lock_time</th>\n      <th>cashier_id</th>\n      <th>pc_id</th>\n      <th>order_number</th>\n      <th>org_id</th>\n      <th>print_doc_bill_num</th>\n      <th>lock_table_info</th>\n      <th>order_status</th>\n      <th>phone</th>\n      <th>name</th>\n    </tr>\n  </thead>\n  <tbody>\n    <tr>\n      <th>0</th>\n      <td>417</td>\n      <td>1442</td>\n      <td>4</td>\n      <td>NaN</td>\n      <td>1501</td>\n      <td>1022</td>\n      <td>165</td>\n      <td>5</td>\n      <td>165</td>\n      <td>2016/8/1 11:05:36</td>\n      <td>...</td>\n      <td>2016/8/1 11:11:46</td>\n      <td>NaN</td>\n      <td>NaN</td>\n      <td>NaN</td>\n      <td>330</td>\n      <td>NaN</td>\n      <td>NaN</td>\n      <td>1</td>\n      <td>18688880641</td>\n      <td>苗宇怡</td>\n    </tr>\n    <tr>\n      <th>1</th>\n      <td>301</td>\n      <td>1095</td>\n      <td>3</td>\n      <td>NaN</td>\n      <td>1430</td>\n      <td>1031</td>\n      <td>321</td>\n      <td>6</td>\n      <td>321</td>\n      <td>2016/8/1 11:15:57</td>\n      <td>...</td>\n      <td>2016/8/1 11:31:55</td>\n      <td>NaN</td>\n      <td>NaN</td>\n      <td>NaN</td>\n      <td>328</td>\n      <td>NaN</td>\n      <td>NaN</td>\n      <td>1</td>\n      <td>18688880174</td>\n      <td>赵颖</td>\n    </tr>\n    <tr>\n      <th>2</th>\n      <td>413</td>\n      <td>1147</td>\n      <td>6</td>\n      <td>NaN</td>\n      <td>1488</td>\n      <td>1009</td>\n      <td>854</td>\n      <td>15</td>\n      <td>854</td>\n      <td>2016/8/1 12:42:52</td>\n      <td>...</td>\n      <td>2016/8/1 12:54:37</td>\n      <td>NaN</td>\n      <td>NaN</td>\n      <td>NaN</td>\n      <td>330</td>\n      <td>NaN</td>\n      <td>NaN</td>\n      <td>1</td>\n      <td>18688880276</td>\n      <td>徐毅凡</td>\n    </tr>\n    <tr>\n      <th>3</th>\n      <td>415</td>\n      <td>1166</td>\n      <td>4</td>\n      <td>NaN</td>\n      <td>1502</td>\n      <td>1023</td>\n      <td>466</td>\n      <td>10</td>\n      <td>466</td>\n      <td>2016/8/1 12:51:38</td>\n      <td>...</td>\n      <td>2016/8/1 13:08:20</td>\n      <td>NaN</td>\n      <td>NaN</td>\n      <td>NaN</td>\n      <td>330</td>\n      <td>NaN</td>\n      <td>NaN</td>\n      <td>1</td>\n      <td>18688880231</td>\n      <td>张大鹏</td>\n    </tr>\n    <tr>\n      <th>4</th>\n      <td>392</td>\n      <td>1094</td>\n      <td>10</td>\n      <td>NaN</td>\n      <td>1499</td>\n      <td>1020</td>\n      <td>704</td>\n      <td>24</td>\n      <td>704</td>\n      <td>2016/8/1 12:58:44</td>\n      <td>...</td>\n      <td>2016/8/1 13:07:16</td>\n      <td>NaN</td>\n      <td>NaN</td>\n      <td>NaN</td>\n      <td>330</td>\n      <td>NaN</td>\n      <td>NaN</td>\n      <td>1</td>\n      <td>18688880173</td>\n      <td>孙熙凯</td>\n    </tr>\n    <tr>\n      <th>...</th>\n      <td>...</td>\n      <td>...</td>\n      <td>...</td>\n      <td>...</td>\n      <td>...</td>\n      <td>...</td>\n      <td>...</td>\n      <td>...</td>\n      <td>...</td>\n      <td>...</td>\n      <td>...</td>\n      <td>...</td>\n      <td>...</td>\n      <td>...</td>\n      <td>...</td>\n      <td>...</td>\n      <td>...</td>\n      <td>...</td>\n      <td>...</td>\n      <td>...</td>\n      <td>...</td>\n    </tr>\n    <tr>\n      <th>940</th>\n      <td>641</td>\n      <td>1095</td>\n      <td>8</td>\n      <td>NaN</td>\n      <td>1492</td>\n      <td>1013</td>\n      <td>679</td>\n      <td>12</td>\n      <td>679</td>\n      <td>2016/8/31 21:23:48</td>\n      <td>...</td>\n      <td>2016/8/31 21:31:48</td>\n      <td>NaN</td>\n      <td>NaN</td>\n      <td>NaN</td>\n      <td>330</td>\n      <td>NaN</td>\n      <td>NaN</td>\n      <td>1</td>\n      <td>18688880307</td>\n      <td>李靖</td>\n    </tr>\n    <tr>\n      <th>941</th>\n      <td>672</td>\n      <td>1089</td>\n      <td>6</td>\n      <td>NaN</td>\n      <td>1489</td>\n      <td>1010</td>\n      <td>800</td>\n      <td>24</td>\n      <td>800</td>\n      <td>2016/8/31 21:24:12</td>\n      <td>...</td>\n      <td>2016/8/31 21:56:12</td>\n      <td>NaN</td>\n      <td>NaN</td>\n      <td>NaN</td>\n      <td>330</td>\n      <td>NaN</td>\n      <td>NaN</td>\n      <td>1</td>\n      <td>18688880305</td>\n      <td>莫言</td>\n    </tr>\n    <tr>\n      <th>942</th>\n      <td>692</td>\n      <td>1155</td>\n      <td>8</td>\n      <td>NaN</td>\n      <td>1492</td>\n      <td>1013</td>\n      <td>735</td>\n      <td>10</td>\n      <td>735</td>\n      <td>2016/8/31 21:25:18</td>\n      <td>...</td>\n      <td>2016/8/31 21:33:34</td>\n      <td>NaN</td>\n      <td>NaN</td>\n      <td>NaN</td>\n      <td>330</td>\n      <td>NaN</td>\n      <td>NaN</td>\n      <td>1</td>\n      <td>18688880327</td>\n      <td>习一冰</td>\n    </tr>\n    <tr>\n      <th>943</th>\n      <td>647</td>\n      <td>1094</td>\n      <td>4</td>\n      <td>NaN</td>\n      <td>1485</td>\n      <td>1006</td>\n      <td>262</td>\n      <td>9</td>\n      <td>262</td>\n      <td>2016/8/31 21:37:39</td>\n      <td>...</td>\n      <td>2016/8/31 21:55:39</td>\n      <td>NaN</td>\n      <td>NaN</td>\n      <td>NaN</td>\n      <td>330</td>\n      <td>NaN</td>\n      <td>NaN</td>\n      <td>1</td>\n      <td>18688880207</td>\n      <td>章春华</td>\n    </tr>\n    <tr>\n      <th>944</th>\n      <td>570</td>\n      <td>1113</td>\n      <td>8</td>\n      <td>NaN</td>\n      <td>1517</td>\n      <td>1038</td>\n      <td>589</td>\n      <td>13</td>\n      <td>589</td>\n      <td>2016/8/31 21:41:56</td>\n      <td>...</td>\n      <td>2016/8/31 21:32:56</td>\n      <td>NaN</td>\n      <td>NaN</td>\n      <td>NaN</td>\n      <td>330</td>\n      <td>NaN</td>\n      <td>NaN</td>\n      <td>1</td>\n      <td>18688880313</td>\n      <td>唐雅嘉</td>\n    </tr>\n  </tbody>\n</table>\n<p>945 rows × 21 columns</p>\n</div>"
     },
     "metadata": {},
     "execution_count": 3
    }
   ],
   "source": [
    "data"
   ]
  },
  {
   "cell_type": "code",
   "execution_count": 4,
   "metadata": {},
   "outputs": [
    {
     "output_type": "execute_result",
     "data": {
      "text/plain": "Index(['info_id', 'emp_id', 'number_consumers', 'mode', 'dining_table_id',\n       'dining_table_name', 'expenditure', 'dishes_count', 'accounts_payable',\n       'use_start_time', 'check_closed', 'lock_time', 'cashier_id', 'pc_id',\n       'order_number', 'org_id', 'print_doc_bill_num', 'lock_table_info',\n       'order_status', 'phone', 'name'],\n      dtype='object')"
     },
     "metadata": {},
     "execution_count": 4
    }
   ],
   "source": [
    "data.columns"
   ]
  },
  {
   "cell_type": "code",
   "execution_count": 5,
   "metadata": {},
   "outputs": [
    {
     "output_type": "execute_result",
     "data": {
      "text/plain": "0       2016/8/1 11:11:46\n1       2016/8/1 11:31:55\n2       2016/8/1 12:54:37\n3       2016/8/1 13:08:20\n4       2016/8/1 13:07:16\n              ...        \n940    2016/8/31 21:31:48\n941    2016/8/31 21:56:12\n942    2016/8/31 21:33:34\n943    2016/8/31 21:55:39\n944    2016/8/31 21:32:56\nName: lock_time, Length: 945, dtype: object"
     },
     "metadata": {},
     "execution_count": 5
    }
   ],
   "source": [
    "data['lock_time']"
   ]
  },
  {
   "cell_type": "code",
   "execution_count": 7,
   "metadata": {},
   "outputs": [],
   "source": [
    "data['lock_time']=pd.to_datetime(data['lock_time'])"
   ]
  },
  {
   "cell_type": "code",
   "execution_count": 8,
   "metadata": {},
   "outputs": [
    {
     "output_type": "execute_result",
     "data": {
      "text/plain": "     info_id  emp_id  number_consumers  mode  dining_table_id  \\\n0        417    1442                 4   NaN             1501   \n1        301    1095                 3   NaN             1430   \n2        413    1147                 6   NaN             1488   \n3        415    1166                 4   NaN             1502   \n4        392    1094                10   NaN             1499   \n..       ...     ...               ...   ...              ...   \n940      641    1095                 8   NaN             1492   \n941      672    1089                 6   NaN             1489   \n942      692    1155                 8   NaN             1492   \n943      647    1094                 4   NaN             1485   \n944      570    1113                 8   NaN             1517   \n\n     dining_table_name  expenditure  dishes_count  accounts_payable  \\\n0                 1022          165             5               165   \n1                 1031          321             6               321   \n2                 1009          854            15               854   \n3                 1023          466            10               466   \n4                 1020          704            24               704   \n..                 ...          ...           ...               ...   \n940               1013          679            12               679   \n941               1010          800            24               800   \n942               1013          735            10               735   \n943               1006          262             9               262   \n944               1038          589            13               589   \n\n         use_start_time  ...           lock_time cashier_id  pc_id  \\\n0     2016/8/1 11:05:36  ... 2016-08-01 11:11:46        NaN    NaN   \n1     2016/8/1 11:15:57  ... 2016-08-01 11:31:55        NaN    NaN   \n2     2016/8/1 12:42:52  ... 2016-08-01 12:54:37        NaN    NaN   \n3     2016/8/1 12:51:38  ... 2016-08-01 13:08:20        NaN    NaN   \n4     2016/8/1 12:58:44  ... 2016-08-01 13:07:16        NaN    NaN   \n..                  ...  ...                 ...        ...    ...   \n940  2016/8/31 21:23:48  ... 2016-08-31 21:31:48        NaN    NaN   \n941  2016/8/31 21:24:12  ... 2016-08-31 21:56:12        NaN    NaN   \n942  2016/8/31 21:25:18  ... 2016-08-31 21:33:34        NaN    NaN   \n943  2016/8/31 21:37:39  ... 2016-08-31 21:55:39        NaN    NaN   \n944  2016/8/31 21:41:56  ... 2016-08-31 21:32:56        NaN    NaN   \n\n     order_number  org_id  print_doc_bill_num  lock_table_info  order_status  \\\n0             NaN     330                 NaN              NaN             1   \n1             NaN     328                 NaN              NaN             1   \n2             NaN     330                 NaN              NaN             1   \n3             NaN     330                 NaN              NaN             1   \n4             NaN     330                 NaN              NaN             1   \n..            ...     ...                 ...              ...           ...   \n940           NaN     330                 NaN              NaN             1   \n941           NaN     330                 NaN              NaN             1   \n942           NaN     330                 NaN              NaN             1   \n943           NaN     330                 NaN              NaN             1   \n944           NaN     330                 NaN              NaN             1   \n\n           phone  name  \n0    18688880641   苗宇怡  \n1    18688880174    赵颖  \n2    18688880276   徐毅凡  \n3    18688880231   张大鹏  \n4    18688880173   孙熙凯  \n..           ...   ...  \n940  18688880307    李靖  \n941  18688880305    莫言  \n942  18688880327   习一冰  \n943  18688880207   章春华  \n944  18688880313   唐雅嘉  \n\n[945 rows x 21 columns]",
      "text/html": "<div>\n<style scoped>\n    .dataframe tbody tr th:only-of-type {\n        vertical-align: middle;\n    }\n\n    .dataframe tbody tr th {\n        vertical-align: top;\n    }\n\n    .dataframe thead th {\n        text-align: right;\n    }\n</style>\n<table border=\"1\" class=\"dataframe\">\n  <thead>\n    <tr style=\"text-align: right;\">\n      <th></th>\n      <th>info_id</th>\n      <th>emp_id</th>\n      <th>number_consumers</th>\n      <th>mode</th>\n      <th>dining_table_id</th>\n      <th>dining_table_name</th>\n      <th>expenditure</th>\n      <th>dishes_count</th>\n      <th>accounts_payable</th>\n      <th>use_start_time</th>\n      <th>...</th>\n      <th>lock_time</th>\n      <th>cashier_id</th>\n      <th>pc_id</th>\n      <th>order_number</th>\n      <th>org_id</th>\n      <th>print_doc_bill_num</th>\n      <th>lock_table_info</th>\n      <th>order_status</th>\n      <th>phone</th>\n      <th>name</th>\n    </tr>\n  </thead>\n  <tbody>\n    <tr>\n      <th>0</th>\n      <td>417</td>\n      <td>1442</td>\n      <td>4</td>\n      <td>NaN</td>\n      <td>1501</td>\n      <td>1022</td>\n      <td>165</td>\n      <td>5</td>\n      <td>165</td>\n      <td>2016/8/1 11:05:36</td>\n      <td>...</td>\n      <td>2016-08-01 11:11:46</td>\n      <td>NaN</td>\n      <td>NaN</td>\n      <td>NaN</td>\n      <td>330</td>\n      <td>NaN</td>\n      <td>NaN</td>\n      <td>1</td>\n      <td>18688880641</td>\n      <td>苗宇怡</td>\n    </tr>\n    <tr>\n      <th>1</th>\n      <td>301</td>\n      <td>1095</td>\n      <td>3</td>\n      <td>NaN</td>\n      <td>1430</td>\n      <td>1031</td>\n      <td>321</td>\n      <td>6</td>\n      <td>321</td>\n      <td>2016/8/1 11:15:57</td>\n      <td>...</td>\n      <td>2016-08-01 11:31:55</td>\n      <td>NaN</td>\n      <td>NaN</td>\n      <td>NaN</td>\n      <td>328</td>\n      <td>NaN</td>\n      <td>NaN</td>\n      <td>1</td>\n      <td>18688880174</td>\n      <td>赵颖</td>\n    </tr>\n    <tr>\n      <th>2</th>\n      <td>413</td>\n      <td>1147</td>\n      <td>6</td>\n      <td>NaN</td>\n      <td>1488</td>\n      <td>1009</td>\n      <td>854</td>\n      <td>15</td>\n      <td>854</td>\n      <td>2016/8/1 12:42:52</td>\n      <td>...</td>\n      <td>2016-08-01 12:54:37</td>\n      <td>NaN</td>\n      <td>NaN</td>\n      <td>NaN</td>\n      <td>330</td>\n      <td>NaN</td>\n      <td>NaN</td>\n      <td>1</td>\n      <td>18688880276</td>\n      <td>徐毅凡</td>\n    </tr>\n    <tr>\n      <th>3</th>\n      <td>415</td>\n      <td>1166</td>\n      <td>4</td>\n      <td>NaN</td>\n      <td>1502</td>\n      <td>1023</td>\n      <td>466</td>\n      <td>10</td>\n      <td>466</td>\n      <td>2016/8/1 12:51:38</td>\n      <td>...</td>\n      <td>2016-08-01 13:08:20</td>\n      <td>NaN</td>\n      <td>NaN</td>\n      <td>NaN</td>\n      <td>330</td>\n      <td>NaN</td>\n      <td>NaN</td>\n      <td>1</td>\n      <td>18688880231</td>\n      <td>张大鹏</td>\n    </tr>\n    <tr>\n      <th>4</th>\n      <td>392</td>\n      <td>1094</td>\n      <td>10</td>\n      <td>NaN</td>\n      <td>1499</td>\n      <td>1020</td>\n      <td>704</td>\n      <td>24</td>\n      <td>704</td>\n      <td>2016/8/1 12:58:44</td>\n      <td>...</td>\n      <td>2016-08-01 13:07:16</td>\n      <td>NaN</td>\n      <td>NaN</td>\n      <td>NaN</td>\n      <td>330</td>\n      <td>NaN</td>\n      <td>NaN</td>\n      <td>1</td>\n      <td>18688880173</td>\n      <td>孙熙凯</td>\n    </tr>\n    <tr>\n      <th>...</th>\n      <td>...</td>\n      <td>...</td>\n      <td>...</td>\n      <td>...</td>\n      <td>...</td>\n      <td>...</td>\n      <td>...</td>\n      <td>...</td>\n      <td>...</td>\n      <td>...</td>\n      <td>...</td>\n      <td>...</td>\n      <td>...</td>\n      <td>...</td>\n      <td>...</td>\n      <td>...</td>\n      <td>...</td>\n      <td>...</td>\n      <td>...</td>\n      <td>...</td>\n      <td>...</td>\n    </tr>\n    <tr>\n      <th>940</th>\n      <td>641</td>\n      <td>1095</td>\n      <td>8</td>\n      <td>NaN</td>\n      <td>1492</td>\n      <td>1013</td>\n      <td>679</td>\n      <td>12</td>\n      <td>679</td>\n      <td>2016/8/31 21:23:48</td>\n      <td>...</td>\n      <td>2016-08-31 21:31:48</td>\n      <td>NaN</td>\n      <td>NaN</td>\n      <td>NaN</td>\n      <td>330</td>\n      <td>NaN</td>\n      <td>NaN</td>\n      <td>1</td>\n      <td>18688880307</td>\n      <td>李靖</td>\n    </tr>\n    <tr>\n      <th>941</th>\n      <td>672</td>\n      <td>1089</td>\n      <td>6</td>\n      <td>NaN</td>\n      <td>1489</td>\n      <td>1010</td>\n      <td>800</td>\n      <td>24</td>\n      <td>800</td>\n      <td>2016/8/31 21:24:12</td>\n      <td>...</td>\n      <td>2016-08-31 21:56:12</td>\n      <td>NaN</td>\n      <td>NaN</td>\n      <td>NaN</td>\n      <td>330</td>\n      <td>NaN</td>\n      <td>NaN</td>\n      <td>1</td>\n      <td>18688880305</td>\n      <td>莫言</td>\n    </tr>\n    <tr>\n      <th>942</th>\n      <td>692</td>\n      <td>1155</td>\n      <td>8</td>\n      <td>NaN</td>\n      <td>1492</td>\n      <td>1013</td>\n      <td>735</td>\n      <td>10</td>\n      <td>735</td>\n      <td>2016/8/31 21:25:18</td>\n      <td>...</td>\n      <td>2016-08-31 21:33:34</td>\n      <td>NaN</td>\n      <td>NaN</td>\n      <td>NaN</td>\n      <td>330</td>\n      <td>NaN</td>\n      <td>NaN</td>\n      <td>1</td>\n      <td>18688880327</td>\n      <td>习一冰</td>\n    </tr>\n    <tr>\n      <th>943</th>\n      <td>647</td>\n      <td>1094</td>\n      <td>4</td>\n      <td>NaN</td>\n      <td>1485</td>\n      <td>1006</td>\n      <td>262</td>\n      <td>9</td>\n      <td>262</td>\n      <td>2016/8/31 21:37:39</td>\n      <td>...</td>\n      <td>2016-08-31 21:55:39</td>\n      <td>NaN</td>\n      <td>NaN</td>\n      <td>NaN</td>\n      <td>330</td>\n      <td>NaN</td>\n      <td>NaN</td>\n      <td>1</td>\n      <td>18688880207</td>\n      <td>章春华</td>\n    </tr>\n    <tr>\n      <th>944</th>\n      <td>570</td>\n      <td>1113</td>\n      <td>8</td>\n      <td>NaN</td>\n      <td>1517</td>\n      <td>1038</td>\n      <td>589</td>\n      <td>13</td>\n      <td>589</td>\n      <td>2016/8/31 21:41:56</td>\n      <td>...</td>\n      <td>2016-08-31 21:32:56</td>\n      <td>NaN</td>\n      <td>NaN</td>\n      <td>NaN</td>\n      <td>330</td>\n      <td>NaN</td>\n      <td>NaN</td>\n      <td>1</td>\n      <td>18688880313</td>\n      <td>唐雅嘉</td>\n    </tr>\n  </tbody>\n</table>\n<p>945 rows × 21 columns</p>\n</div>"
     },
     "metadata": {},
     "execution_count": 8
    }
   ],
   "source": [
    "data"
   ]
  },
  {
   "cell_type": "code",
   "execution_count": 9,
   "metadata": {},
   "outputs": [
    {
     "output_type": "execute_result",
     "data": {
      "text/plain": "Timedelta('-106752 days +00:12:43.145224')"
     },
     "metadata": {},
     "execution_count": 9
    }
   ],
   "source": [
    "pd.Timedelta.min"
   ]
  },
  {
   "cell_type": "code",
   "execution_count": 11,
   "metadata": {},
   "outputs": [
    {
     "output_type": "execute_result",
     "data": {
      "text/plain": "Timestamp('1677-09-21 00:12:43.145225')"
     },
     "metadata": {},
     "execution_count": 11
    }
   ],
   "source": [
    "pd.Timestamp.min"
   ]
  },
  {
   "cell_type": "code",
   "execution_count": 12,
   "metadata": {},
   "outputs": [
    {
     "output_type": "execute_result",
     "data": {
      "text/plain": "Timestamp('2262-04-11 23:47:16.854775807')"
     },
     "metadata": {},
     "execution_count": 12
    }
   ],
   "source": [
    "pd.Timestamp.max"
   ]
  },
  {
   "cell_type": "code",
   "execution_count": 14,
   "metadata": {},
   "outputs": [
    {
     "output_type": "execute_result",
     "data": {
      "text/plain": "DatetimeIndex(['2016-08-01 11:05:36', '2016-08-01 11:15:57',\n               '2016-08-01 12:42:52', '2016-08-01 12:51:38',\n               '2016-08-01 12:58:44', '2016-08-01 13:15:42',\n               '2016-08-01 13:17:37', '2016-08-01 13:38:27',\n               '2016-08-01 17:06:20', '2016-08-01 17:32:27',\n               ...\n               '2016-08-31 18:05:51', '2016-08-31 18:28:06',\n               '2016-08-31 18:40:56', '2016-08-31 19:14:12',\n               '2016-08-31 20:25:16', '2016-08-31 21:23:48',\n               '2016-08-31 21:24:12', '2016-08-31 21:25:18',\n               '2016-08-31 21:37:39', '2016-08-31 21:41:56'],\n              dtype='datetime64[ns]', name='use_start_time', length=945, freq=None)"
     },
     "metadata": {},
     "execution_count": 14
    }
   ],
   "source": [
    "pd.DatetimeIndex(data['use_start_time'])"
   ]
  },
  {
   "cell_type": "code",
   "execution_count": 19,
   "metadata": {},
   "outputs": [
    {
     "output_type": "error",
     "ename": "TypeError",
     "evalue": "__new__() got an unexpected keyword argument frep",
     "traceback": [
      "\u001b[1;31m---------------------------------------------------------------------------\u001b[0m",
      "\u001b[1;31mTypeError\u001b[0m                                 Traceback (most recent call last)",
      "\u001b[1;32m<ipython-input-19-3080c3561750>\u001b[0m in \u001b[0;36m<module>\u001b[1;34m\u001b[0m\n\u001b[1;32m----> 1\u001b[1;33m \u001b[0mpd\u001b[0m\u001b[1;33m.\u001b[0m\u001b[0mPeriodIndex\u001b[0m\u001b[1;33m(\u001b[0m\u001b[0mdata\u001b[0m\u001b[1;33m[\u001b[0m\u001b[1;34m'use_start_time'\u001b[0m\u001b[1;33m]\u001b[0m\u001b[1;33m,\u001b[0m\u001b[0mfrep\u001b[0m\u001b[1;33m=\u001b[0m\u001b[1;34m'5'\u001b[0m\u001b[1;33m)\u001b[0m\u001b[1;33m\u001b[0m\u001b[1;33m\u001b[0m\u001b[0m\n\u001b[0m",
      "\u001b[1;32mF:\\Anaconda3\\lib\\site-packages\\pandas\\core\\indexes\\period.py\u001b[0m in \u001b[0;36m__new__\u001b[1;34m(cls, data, ordinal, freq, tz, dtype, copy, name, **fields)\u001b[0m\n\u001b[0;32m    191\u001b[0m         \u001b[1;32mif\u001b[0m \u001b[1;32mnot\u001b[0m \u001b[0mset\u001b[0m\u001b[1;33m(\u001b[0m\u001b[0mfields\u001b[0m\u001b[1;33m)\u001b[0m\u001b[1;33m.\u001b[0m\u001b[0missubset\u001b[0m\u001b[1;33m(\u001b[0m\u001b[0mvalid_field_set\u001b[0m\u001b[1;33m)\u001b[0m\u001b[1;33m:\u001b[0m\u001b[1;33m\u001b[0m\u001b[1;33m\u001b[0m\u001b[0m\n\u001b[0;32m    192\u001b[0m             \u001b[0margument\u001b[0m \u001b[1;33m=\u001b[0m \u001b[0mlist\u001b[0m\u001b[1;33m(\u001b[0m\u001b[0mset\u001b[0m\u001b[1;33m(\u001b[0m\u001b[0mfields\u001b[0m\u001b[1;33m)\u001b[0m \u001b[1;33m-\u001b[0m \u001b[0mvalid_field_set\u001b[0m\u001b[1;33m)\u001b[0m\u001b[1;33m[\u001b[0m\u001b[1;36m0\u001b[0m\u001b[1;33m]\u001b[0m\u001b[1;33m\u001b[0m\u001b[1;33m\u001b[0m\u001b[0m\n\u001b[1;32m--> 193\u001b[1;33m             \u001b[1;32mraise\u001b[0m \u001b[0mTypeError\u001b[0m\u001b[1;33m(\u001b[0m\u001b[1;34mf\"__new__() got an unexpected keyword argument {argument}\"\u001b[0m\u001b[1;33m)\u001b[0m\u001b[1;33m\u001b[0m\u001b[1;33m\u001b[0m\u001b[0m\n\u001b[0m\u001b[0;32m    194\u001b[0m \u001b[1;33m\u001b[0m\u001b[0m\n\u001b[0;32m    195\u001b[0m         \u001b[0mname\u001b[0m \u001b[1;33m=\u001b[0m \u001b[0mmaybe_extract_name\u001b[0m\u001b[1;33m(\u001b[0m\u001b[0mname\u001b[0m\u001b[1;33m,\u001b[0m \u001b[0mdata\u001b[0m\u001b[1;33m,\u001b[0m \u001b[0mcls\u001b[0m\u001b[1;33m)\u001b[0m\u001b[1;33m\u001b[0m\u001b[1;33m\u001b[0m\u001b[0m\n",
      "\u001b[1;31mTypeError\u001b[0m: __new__() got an unexpected keyword argument frep"
     ]
    }
   ],
   "source": []
  },
  {
   "cell_type": "code",
   "execution_count": null,
   "metadata": {},
   "outputs": [],
   "source": []
  }
 ]
}